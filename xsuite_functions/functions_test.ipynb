{
 "cells": [
  {
   "cell_type": "code",
   "execution_count": 3,
   "id": "a0019746-826b-4792-8bff-c035428e88b9",
   "metadata": {},
   "outputs": [],
   "source": [
    "import numpy as np\n",
    "import xobjects as xo\n",
    "import xtrack as xt\n",
    "import xpart as xp\n",
    "import pyarrow \n",
    "import pandas as pd\n",
    "from matplotlib import pyplot as plt \n",
    "\n",
    "\n",
    "import json\n",
    "import xtrack as xt\n",
    "import xpart as xp\n",
    "import xobjects as xo \n",
    "import numpy as np\n",
    "from scipy.constants import c as speed_c\n",
    "from scipy.constants import e as qe\n",
    "from scipy.constants import m_p\n",
    "from matplotlib import pyplot as plt \n",
    "import scipy as sp\n",
    "import pandas as pd\n",
    "import sys\n",
    "import math\n",
    "import json\n",
    "import xdeps as xd\n",
    "from xdeps.madxutils import MadxEval\n",
    "import conda\n",
    "\n",
    "\n",
    "\n"
   ]
  },
  {
   "cell_type": "code",
   "execution_count": 56,
   "id": "5b23af6e-c880-4afe-87df-7c2db947aeac",
   "metadata": {},
   "outputs": [],
   "source": [
    "# new implementation \n",
    "\n",
    "\n",
    "\n",
    "def centre_beam(x, px): # find the average of the beam and move it to 0,0\n",
    "    x_centre = []\n",
    "    px_centre = []\n",
    "    \n",
    "    \n",
    "    x_avg = np.average(x)\n",
    "    x_centre = x - x_avg\n",
    "\n",
    "    px_avg = np.average(px)\n",
    "    px_centre = px - px_avg\n",
    "\n",
    "    return x_centre,px_centre \n",
    "\n",
    "def calculate_emittance(x,px): # assumes normalised coordinates \n",
    "    \n",
    "    emittance=[]\n",
    "      \n",
    "    x_sq = np.multiply(x,x)\n",
    "    xpx = x*px\n",
    "    \n",
    "    \n",
    "    x_sq = np.multiply(x,x)\n",
    "    px_sq = np.multiply(px,px)\n",
    "    xsq_avg = np.mean(x_sq)\n",
    "    pxsq_avg = np.mean(px_sq)\n",
    "    mult_avg = np.mean(xpx)\n",
    "    \n",
    "\n",
    "    emittance = (np.sqrt((xsq_avg*pxsq_avg)-(mult_avg**2)))\n",
    "    return emittance\n",
    "\n",
    "def normalise_emittance(x,px,gamma): # assumes normalised coordinates \n",
    "    emit = calculate_emittance(x,px)\n",
    "    norm_emit = emit * gamma * np.sqrt((gamma**2-1)/gamma**2)\n",
    "    return norm_emit \n",
    "\n",
    "\n",
    "\n",
    "##############################################################\n",
    "def SVD_AlphaBeta(x,px):\n",
    "    '''Taken from https://arxiv.org/pdf/2006.10661.pdf '''\n",
    "    \n",
    "    U,s,V= np.linalg.svd([x,px])         #SVD\n",
    "    \n",
    "    N = np.dot(U,np.diag(s))\n",
    "    theta = np.arctan(-N[0,1]/N[0,0])    #AngleofR(theta)\n",
    "    co=np.cos(theta) ; si=np.sin(theta)\n",
    "    \n",
    "    R = [[co,si],[-si,co]]   \n",
    "    X = np.dot(N,R)                      #Floquetupto1/det(USR)\n",
    "    \n",
    "    beta = np.abs(X[0,0]/X[1,1])\n",
    "    alpha = X[1,0]/X[1,1]\n",
    "    \n",
    "    # dropped\n",
    "    ex =s[0]*s[1]/(len(x)/2.)            #emit=det(S)/(n/2)\n",
    "    \n",
    "    return alpha,beta\n",
    "\n",
    "##############################################################\n",
    "\n",
    "\n",
    "##############################################################\n",
    "def phys2norm(x,px,alpha=None,beta=None,SVD=False):\n",
    "    \n",
    "    if SVD:\n",
    "        alpha,beta = SVD_AlphaBeta(x,px)\n",
    "        \n",
    "    #N0 = [[1/np.sqrt(beta),0],[alpha/np.sqrt(beta), np.sqrt(beta)]]\n",
    "    x_n  = x/np.sqrt(beta)\n",
    "    px_n = alpha*x/np.sqrt(beta) + px*np.sqrt(beta)\n",
    "    \n",
    "    return x_n,px_n\n",
    "\n",
    "def norm2phys(x_n,px_n,alpha=None,beta=None):\n",
    "    \n",
    "    \n",
    "    x    = x_n*np.sqrt(beta)\n",
    "    px   = -alpha*x_n/np.sqrt(beta) + px_n/np.sqrt(beta)\n",
    "    \n",
    "    return x, px\n",
    "##############################################################\n",
    "\n",
    "\n"
   ]
  },
  {
   "cell_type": "code",
   "execution_count": 53,
   "id": "b700a09d-28df-4b12-be00-37d428fd32b2",
   "metadata": {},
   "outputs": [],
   "source": [
    "\n"
   ]
  },
  {
   "cell_type": "code",
   "execution_count": 4,
   "id": "a1ab9c02-c190-4a1b-bb52-265237b3a357",
   "metadata": {},
   "outputs": [
    {
     "name": "stdout",
     "output_type": "stream",
     "text": [
      "Done loading line from dict.           \n"
     ]
    }
   ],
   "source": [
    "\n",
    "############################ load the line \n",
    "\n",
    "with open('../Examples/Example_data/bb_on_tracking_line.json', 'r') as fid: # bb lattice\n",
    "    loaded_dct = json.load(fid)\n",
    "line = xt.Line.from_dict(loaded_dct)\n",
    "\n",
    "line.particle_ref = xp.Particles(mass0=xp.PROTON_MASS_EV, q0=1,\n",
    "                        gamma0=6800/0.938)\n",
    "part_ref = line.particle_ref \n",
    "\n",
    "\n"
   ]
  },
  {
   "cell_type": "code",
   "execution_count": 5,
   "id": "67a740f7-e342-4096-854c-d5b7a3ab068e",
   "metadata": {},
   "outputs": [],
   "source": [
    "#################### load context, particles and track \n",
    "\n",
    "\n",
    "context = xo.ContextCupy()         # For GPU\n",
    "tracker = xt.Tracker(line=line, _context=context,)\n",
    "\n",
    "bunch_intensity = 1.8e11\n",
    "sigma_z = 0 \n",
    "n_part = int(1e4) \n",
    "nemitt_x = 2.5e-6\n",
    "nemitt_y = 2.5e-6\n",
    "\n",
    "\n",
    "particles = xp.generate_matched_gaussian_bunch(_context=context, \n",
    "         num_particles=n_part, total_intensity_particles=bunch_intensity,\n",
    "         nemitt_x=nemitt_x, nemitt_y=nemitt_y, sigma_z=sigma_z,\n",
    "         particle_ref=part_ref,\n",
    "         tracker=tracker)\n",
    "sig_ip3 = np.sqrt(tracker.twiss(at_elements=['ip3'])['betx']*2.5e-6*0.938/6800)\n",
    "\n",
    "x_s=[]\n",
    "px_s=[]\n",
    "y_s=[]\n",
    "py_s=[]\n",
    "\n",
    "tracker.track(particles, num_turns=2,turn_by_turn_monitor=False) \n",
    "    \n",
    "x_s.append(particles.x.get().copy()) \n",
    "px_s.append(particles.px.get().copy())\n",
    "y_s.append(particles.y.get().copy())\n",
    "py_s.append(particles.py.get().copy())\n",
    "\n",
    "\n",
    "\n"
   ]
  },
  {
   "cell_type": "code",
   "execution_count": 23,
   "id": "314c7af2-15b9-4673-93bd-16b7313ef510",
   "metadata": {},
   "outputs": [],
   "source": [
    "x,px = centre_beam(x_s[0],px_s[0])"
   ]
  },
  {
   "cell_type": "code",
   "execution_count": null,
   "id": "3ad75845-c287-4dfc-848c-e33588aab9ff",
   "metadata": {},
   "outputs": [],
   "source": [
    "np.mean"
   ]
  },
  {
   "cell_type": "code",
   "execution_count": 37,
   "id": "4ed548f9-21b0-4556-8320-731e06863436",
   "metadata": {},
   "outputs": [
    {
     "data": {
      "text/plain": [
       "<matplotlib.collections.PathCollection at 0x7f7f0c136a90>"
      ]
     },
     "execution_count": 37,
     "metadata": {},
     "output_type": "execute_result"
    },
    {
     "data": {
      "image/png": "[encoded data removed]",
      "text/plain": [
       "<Figure size 640x480 with 1 Axes>"
      ]
     },
     "metadata": {},
     "output_type": "display_data"
    }
   ],
   "source": [
    "plt.scatter(x,px)\n",
    "plt.scatter(x_s,px_s)\n",
    "plt.scatter(x_n,px_n)\n"
   ]
  },
  {
   "cell_type": "code",
   "execution_count": 49,
   "id": "fe98c199-4ebf-41bc-98b9-79a0356c96b7",
   "metadata": {},
   "outputs": [
    {
     "data": {
      "text/plain": [
       "3.438675341775696e-10"
      ]
     },
     "execution_count": 49,
     "metadata": {},
     "output_type": "execute_result"
    }
   ],
   "source": [
    "emit = calculate_emittance_new(x_n,px_n)\n",
    "emit"
   ]
  },
  {
   "cell_type": "code",
   "execution_count": 54,
   "id": "9bb00994-3b6a-4bf0-b0ab-b3d532f4af9b",
   "metadata": {},
   "outputs": [],
   "source": [
    "gamma0 = 6800/0.938\n",
    "\n",
    "x_n,px_n=phys2norm(x,px,SVD=True)\n",
    "\n",
    "\n",
    "emit_norm = normalise_emittance_new(x_n,px_n,gamma0)"
   ]
  },
  {
   "cell_type": "code",
   "execution_count": 39,
   "id": "58a9e606-c608-4d83-bc7b-02113b07d31d",
   "metadata": {},
   "outputs": [],
   "source": [
    "gamma0=6800/0.938"
   ]
  },
  {
   "cell_type": "code",
   "execution_count": 55,
   "id": "48634396-0efe-49a1-b7a1-70ab7147394b",
   "metadata": {},
   "outputs": [
    {
     "data": {
      "text/plain": [
       "2.492856300811477e-06"
      ]
     },
     "execution_count": 55,
     "metadata": {},
     "output_type": "execute_result"
    }
   ],
   "source": [
    "emit_norm"
   ]
  },
  {
   "cell_type": "code",
   "execution_count": 74,
   "id": "3752f3bd-fc81-4184-b274-3a0609393597",
   "metadata": {},
   "outputs": [],
   "source": [
    "def load_tracker(gamma, file_with_json=str, Cpu=True):\n",
    "\n",
    "    with open(file_with_json,'r') as fid:\n",
    "        loaded_dct = json.load(fid)\n",
    "        \n",
    "    line = xt.Line.from_dict(loaded_dct)\n",
    "\n",
    "    line.particle_ref = xp.Particles(mass0=xp.PROTON_MASS_EV, q0=1,\n",
    "                        gamma0=gamma)\n",
    "    \n",
    "    part_ref = line.particle_ref \n",
    "\n",
    "    if Cpu == True:\n",
    "        context = xo.context.Cpu\n",
    "    else:\n",
    "        context = xo.context.Cupy\n",
    "        \n",
    "    \n",
    "    tracker = xt.Tracker(line=line, _context=context,)\n",
    "    \n",
    "    return tracker, context, part_ref\n"
   ]
  },
  {
   "cell_type": "code",
   "execution_count": 75,
   "id": "67426761-b708-4d95-a574-5ad72404005e",
   "metadata": {},
   "outputs": [
    {
     "name": "stdout",
     "output_type": "stream",
     "text": [
      "Done loading line from dict.           \n"
     ]
    },
    {
     "ename": "AttributeError",
     "evalue": "module 'xobjects.context' has no attribute 'Cupy'",
     "output_type": "error",
     "traceback": [
      "\u001b[0;31m---------------------------------------------------------------------------\u001b[0m",
      "\u001b[0;31mAttributeError\u001b[0m                            Traceback (most recent call last)",
      "Cell \u001b[0;32mIn [75], line 1\u001b[0m\n\u001b[0;32m----> 1\u001b[0m tracker, context, part_ref \u001b[38;5;241m=\u001b[39m load_set_context(file_with_json\u001b[38;5;241m=\u001b[39m\u001b[38;5;124m'\u001b[39m\u001b[38;5;124m../Examples/Example_data/bb_on_tracking_line.json\u001b[39m\u001b[38;5;124m'\u001b[39m,gamma\u001b[38;5;241m=\u001b[39m\u001b[38;5;241m6800\u001b[39m\u001b[38;5;241m/\u001b[39m\u001b[38;5;241m0.938\u001b[39m,Cpu\u001b[38;5;241m=\u001b[39m\u001b[38;5;28;01mFalse\u001b[39;00m)\n",
      "Cell \u001b[0;32mIn [74], line 17\u001b[0m, in \u001b[0;36mload_set_context\u001b[0;34m(gamma, file_with_json, Cpu)\u001b[0m\n\u001b[1;32m     15\u001b[0m     context \u001b[38;5;241m=\u001b[39m xo\u001b[38;5;241m.\u001b[39mcontext\u001b[38;5;241m.\u001b[39mCpu\n\u001b[1;32m     16\u001b[0m \u001b[38;5;28;01melse\u001b[39;00m:\n\u001b[0;32m---> 17\u001b[0m     context \u001b[38;5;241m=\u001b[39m \u001b[43mxo\u001b[49m\u001b[38;5;241;43m.\u001b[39;49m\u001b[43mcontext\u001b[49m\u001b[38;5;241;43m.\u001b[39;49m\u001b[43mCupy\u001b[49m\n\u001b[1;32m     20\u001b[0m tracker \u001b[38;5;241m=\u001b[39m xt\u001b[38;5;241m.\u001b[39mTracker(line\u001b[38;5;241m=\u001b[39mline, _context\u001b[38;5;241m=\u001b[39mcontext,)\n\u001b[1;32m     22\u001b[0m \u001b[38;5;28;01mreturn\u001b[39;00m tracker, context, part_ref\n",
      "\u001b[0;31mAttributeError\u001b[0m: module 'xobjects.context' has no attribute 'Cupy'"
     ]
    }
   ],
   "source": [
    "tracker, context, part_ref = load_set_context(file_with_json='../Examples/Example_data/bb_on_tracking_line.json',gamma=6800/0.938,Cpu=False)"
   ]
  }
 ],
 "metadata": {
  "kernelspec": {
   "display_name": "Python 3 (ipykernel)",
   "language": "python",
   "name": "python3"
  },
  "language_info": {
   "codemirror_mode": {
    "name": "ipython",
    "version": 3
   },
   "file_extension": ".py",
   "mimetype": "text/x-python",
   "name": "python",
   "nbconvert_exporter": "python",
   "pygments_lexer": "ipython3",
   "version": "3.9.12"
  }
 },
 "nbformat": 4,
 "nbformat_minor": 5
}
