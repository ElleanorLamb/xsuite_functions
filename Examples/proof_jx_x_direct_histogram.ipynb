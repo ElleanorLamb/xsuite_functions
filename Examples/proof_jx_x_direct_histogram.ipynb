{
 "cells": [
  {
   "cell_type": "code",
   "execution_count": 2,
   "id": "45f79172-42d3-446c-b836-f5cad5018551",
   "metadata": {},
   "outputs": [],
   "source": [
    "from __future__ import absolute_import\n",
    "from __future__ import division\n",
    "from __future__ import print_function\n",
    "from __future__ import unicode_literals\n",
    "import matplotlib.pyplot as plt\n",
    "from time import time\n",
    "import sys\n",
    "from abel.direct import direct_transform\n",
    "from abel.tools.analytical import GaussianAnalytical\n",
    "from xbeamfit import fitting\n",
    "from xbeamfit import distributions \n",
    "import json\n",
    "import numpy as np\n",
    "import scipy as sp\n",
    "import pandas as pd\n",
    "import sys\n",
    "import xbeamfit as xb \n",
    "from scipy import interpolate\n",
    "from numpy import trapz\n",
    "import scipy.integrate as integrate\n",
    "from scipy import special\n",
    "from scipy.stats import norm\n",
    "\n",
    "from scipy.stats import chi\n",
    "from scipy.stats import chi2"
   ]
  },
  {
   "cell_type": "code",
   "execution_count": null,
   "id": "8a9c6b1b-d8a2-4734-82ff-170b84486b9f",
   "metadata": {},
   "outputs": [],
   "source": []
  },
  {
   "cell_type": "code",
   "execution_count": null,
   "id": "d6efc441-5e50-4061-958a-ee6484ff1d13",
   "metadata": {},
   "outputs": [],
   "source": []
  },
  {
   "cell_type": "code",
   "execution_count": null,
   "id": "5136d296-a2a0-4a03-b878-fd736e6ca167",
   "metadata": {},
   "outputs": [],
   "source": []
  },
  {
   "cell_type": "code",
   "execution_count": null,
   "id": "7eb8d68f-b645-437c-8f30-4bab61a0b0d9",
   "metadata": {},
   "outputs": [],
   "source": []
  }
 ],
 "metadata": {
  "kernelspec": {
   "display_name": "Python 3 (ipykernel)",
   "language": "python",
   "name": "python3"
  },
  "language_info": {
   "codemirror_mode": {
    "name": "ipython",
    "version": 3
   },
   "file_extension": ".py",
   "mimetype": "text/x-python",
   "name": "python",
   "nbconvert_exporter": "python",
   "pygments_lexer": "ipython3",
   "version": "3.9.12"
  }
 },
 "nbformat": 4,
 "nbformat_minor": 5
}
