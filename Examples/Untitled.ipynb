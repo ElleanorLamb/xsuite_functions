{
 "cells": [
  {
   "cell_type": "code",
   "execution_count": 2,
   "id": "fcb557ec-342e-40d1-bf3a-f53fb6c1334b",
   "metadata": {},
   "outputs": [],
   "source": [
    "import xbeamfit as xb \n",
    "\n",
    "import xsuite_functions as xfun\n",
    "import numpy as np\n",
    "from matplotlib import pyplot as plt"
   ]
  },
  {
   "cell_type": "code",
   "execution_count": null,
   "id": "fcb06772-3842-4444-a16b-9697699e8baf",
   "metadata": {},
   "outputs": [],
   "source": []
  }
 ],
 "metadata": {
  "kernelspec": {
   "display_name": "Python 3 (ipykernel)",
   "language": "python",
   "name": "python3"
  },
  "language_info": {
   "codemirror_mode": {
    "name": "ipython",
    "version": 3
   },
   "file_extension": ".py",
   "mimetype": "text/x-python",
   "name": "python",
   "nbconvert_exporter": "python",
   "pygments_lexer": "ipython3",
   "version": "3.9.12"
  }
 },
 "nbformat": 4,
 "nbformat_minor": 5
}
