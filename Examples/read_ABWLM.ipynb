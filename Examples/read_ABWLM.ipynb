{
 "cells": [
  {
   "cell_type": "code",
   "execution_count": 1,
   "id": "174aeb3e-c9b8-407b-9541-0e0141badfca",
   "metadata": {},
   "outputs": [],
   "source": [
    "import PlottingClassesSPS_offline \n",
    "from PlottingClassesSPS_offline import ABWLM\n",
    "import datascout as ds \n",
    "from matplotlib import pyplot as plt"
   ]
  },
  {
   "cell_type": "code",
   "execution_count": 2,
   "id": "5e74f224-c9d7-4c7c-934a-a85ebd8293b8",
   "metadata": {},
   "outputs": [
    {
     "data": {
      "text/plain": [
       "{'ABWLMSPS/Acquisition': {'exception': '',\n",
       "  'header': {'acqStamp': 1667406847992000000,\n",
       "   'cycleStamp': 1667406822135000000,\n",
       "   'isFirstUpdate': False,\n",
       "   'isImmediateUpdate': False,\n",
       "   'selector': 'SPS.USER.LHCMD1',\n",
       "   'setStamp': 0},\n",
       "  'value': {'acqTimeFromInj': array([0.000e+00, 2.000e+01, 4.000e+01, ..., 2.478e+04, 2.480e+04,\n",
       "          2.482e+04]),\n",
       "   'acquisitionDone': True,\n",
       "   'bucketLength': array([4.99341183e-09, 4.99341183e-09, 4.99341183e-09, ...,\n",
       "          4.99015428e-09, 4.99015428e-09, 4.99015428e-09]),\n",
       "   'bunchBaselines': array([[0., 0., 0., ..., 0., 0., 0.],\n",
       "          [0., 0., 0., ..., 0., 0., 0.],\n",
       "          [0., 0., 0., ..., 0., 0., 0.],\n",
       "          ...,\n",
       "          [0., 0., 0., ..., 0., 0., 0.],\n",
       "          [0., 0., 0., ..., 0., 0., 0.],\n",
       "          [0., 0., 0., ..., 0., 0., 0.]], dtype=float32),\n",
       "   'bunchIntensities': array([[0., 0., 0., ..., 0., 0., 0.],\n",
       "          [0., 0., 0., ..., 0., 0., 0.],\n",
       "          [0., 0., 0., ..., 0., 0., 0.],\n",
       "          ...,\n",
       "          [0., 0., 0., ..., 0., 0., 0.],\n",
       "          [0., 0., 0., ..., 0., 0., 0.],\n",
       "          [0., 0., 0., ..., 0., 0., 0.]], dtype=float32),\n",
       "   'bunchIntensityMax': array([0., 0., 0., ..., 0., 0., 0.], dtype=float32),\n",
       "   'bunchIntensityMean': array([0., 0., 0., ..., 0., 0., 0.], dtype=float32),\n",
       "   'bunchIntensityMin': array([0., 0., 0., ..., 0., 0., 0.], dtype=float32),\n",
       "   'bunchIntensityStd': array([0., 0., 0., ..., 0., 0., 0.], dtype=float32),\n",
       "   'bunchLengthMax': array([0., 0., 0., ..., 0., 0., 0.], dtype=float32),\n",
       "   'bunchLengthMean': array([0., 0., 0., ..., 0., 0., 0.], dtype=float32),\n",
       "   'bunchLengthMin': array([0., 0., 0., ..., 0., 0., 0.], dtype=float32),\n",
       "   'bunchLengthStd': array([0., 0., 0., ..., 0., 0., 0.], dtype=float32),\n",
       "   'bunchLengths': array([[0., 0., 0., ..., 0., 0., 0.],\n",
       "          [0., 0., 0., ..., 0., 0., 0.],\n",
       "          [0., 0., 0., ..., 0., 0., 0.],\n",
       "          ...,\n",
       "          [0., 0., 0., ..., 0., 0., 0.],\n",
       "          [0., 0., 0., ..., 0., 0., 0.],\n",
       "          [0., 0., 0., ..., 0., 0., 0.]], dtype=float32),\n",
       "   'bunchPeakMax': array([0., 0., 0., ..., 0., 0., 0.], dtype=float32),\n",
       "   'bunchPeakMean': array([0., 0., 0., ..., 0., 0., 0.], dtype=float32),\n",
       "   'bunchPeakMin': array([0., 0., 0., ..., 0., 0., 0.], dtype=float32),\n",
       "   'bunchPeakStd': array([0., 0., 0., ..., 0., 0., 0.], dtype=float32),\n",
       "   'bunchPeaks': array([[0., 0., 0., ..., 0., 0., 0.],\n",
       "          [0., 0., 0., ..., 0., 0., 0.],\n",
       "          [0., 0., 0., ..., 0., 0., 0.],\n",
       "          ...,\n",
       "          [0., 0., 0., ..., 0., 0., 0.],\n",
       "          [0., 0., 0., ..., 0., 0., 0.],\n",
       "          [0., 0., 0., ..., 0., 0., 0.]], dtype=float32),\n",
       "   'bunchPositions': array([[0., 0., 0., ..., 0., 0., 0.],\n",
       "          [0., 0., 0., ..., 0., 0., 0.],\n",
       "          [0., 0., 0., ..., 0., 0., 0.],\n",
       "          ...,\n",
       "          [0., 0., 0., ..., 0., 0., 0.],\n",
       "          [0., 0., 0., ..., 0., 0., 0.],\n",
       "          [0., 0., 0., ..., 0., 0., 0.]], dtype=float32),\n",
       "   'iAcq': 1242,\n",
       "   'maxADCAllAcqs': -397,\n",
       "   'minADCAllAcqs': -423,\n",
       "   'modeSelectPresent': {'JAPC_ENUM': {'code': 0, 'string': 'opMode'}},\n",
       "   'nAcqsPresent': 1242,\n",
       "   'nBunches': array([0, 0, 0, ..., 0, 0, 0], dtype=int32),\n",
       "   'nBunchesMax': 0,\n",
       "   'nPointsPresent': 80000,\n",
       "   'nTurnsPresent': 1,\n",
       "   'patterns': array([[0, 0, 0, ..., 0, 0, 0],\n",
       "          [0, 0, 0, ..., 0, 0, 0],\n",
       "          [0, 0, 0, ..., 0, 0, 0],\n",
       "          ...,\n",
       "          [0, 0, 0, ..., 0, 0, 0],\n",
       "          [0, 0, 0, ..., 0, 0, 0],\n",
       "          [0, 0, 0, ..., 0, 0, 0]], dtype=int32),\n",
       "   'settingValidity': True,\n",
       "   'triggerOffsets': array([-4.20980678e-11, -7.97849070e-11, -1.08822457e-11, ...,\n",
       "          -4.84779439e-11, -1.31152023e-11, -8.40229676e-11]),\n",
       "   'triggerStampBases': array([1667406823160914300, 1667406823175468650, 1667406823195376025, ...,\n",
       "          1667406847935328975, 1667406847955323850, 1667406847975331650]),\n",
       "   'triggerStamps': array([1667406823162137947, 1667406823176678454, 1667406823196518448, ...,\n",
       "          1667406847936527372, 1667406847956584806, 1667406847976411404])}}}"
      ]
     },
     "execution_count": 2,
     "metadata": {},
     "output_type": "execute_result"
    }
   ],
   "source": [
    "data = ds.parquet_to_dict('./ABWLM/2022.11.02.17.34.09.156239.parquet') \n",
    "data\n",
    "\n",
    "\n"
   ]
  },
  {
   "cell_type": "code",
   "execution_count": 3,
   "id": "c927bfaf-6475-4c6a-912a-a9170440b16a",
   "metadata": {},
   "outputs": [
    {
     "data": {
      "text/plain": [
       "[<matplotlib.lines.Line2D at 0x7ff8caa78730>]"
      ]
     },
     "execution_count": 3,
     "metadata": {},
     "output_type": "execute_result"
    },
    {
     "data": {
      "image/png": "[encoded data removed]",
      "text/plain": [
       "<Figure size 640x480 with 1 Axes>"
      ]
     },
     "metadata": {},
     "output_type": "display_data"
    }
   ],
   "source": [
    "plt.plot(data['ABWLMSPS/Acquisition']['value']['bucketLength'])\n",
    "\n",
    "# you need to ask this and see how much it compares.."
   ]
  },
  {
   "cell_type": "code",
   "execution_count": 30,
   "id": "6ceb8783-6670-4766-81bb-103df714056d",
   "metadata": {},
   "outputs": [
    {
     "ename": "AttributeError",
     "evalue": "'function' object has no attribute 'figname'",
     "output_type": "error",
     "traceback": [
      "\u001b[0;31m---------------------------------------------------------------------------\u001b[0m",
      "\u001b[0;31mAttributeError\u001b[0m                            Traceback (most recent call last)",
      "Cell \u001b[0;32mIn [30], line 2\u001b[0m\n\u001b[1;32m      1\u001b[0m \u001b[38;5;28mself\u001b[39m \u001b[38;5;241m=\u001b[39m ABWLM\u001b[38;5;241m.\u001b[39m\u001b[38;5;21m__init__\u001b[39m\n\u001b[0;32m----> 2\u001b[0m \u001b[43mABWLM\u001b[49m\u001b[38;5;241;43m.\u001b[39;49m\u001b[43mplot\u001b[49m\u001b[43m(\u001b[49m\u001b[38;5;28;43mself\u001b[39;49m\u001b[43m,\u001b[49m\u001b[43m \u001b[49m\u001b[43mdata\u001b[49m\u001b[43m)\u001b[49m\n",
      "File \u001b[0;32m~/SPS_TEST/PlottingClassesSPS_offline.py:525\u001b[0m, in \u001b[0;36mABWLM.plot\u001b[0;34m(self, data)\u001b[0m\n\u001b[1;32m    524\u001b[0m \u001b[38;5;28;01mdef\u001b[39;00m \u001b[38;5;21mplot\u001b[39m(\u001b[38;5;28mself\u001b[39m, data):\n\u001b[0;32m--> 525\u001b[0m     \u001b[38;5;28;01mif\u001b[39;00m \u001b[38;5;129;01mnot\u001b[39;00m plt\u001b[38;5;241m.\u001b[39mfignum_exists(\u001b[38;5;28;43mself\u001b[39;49m\u001b[38;5;241;43m.\u001b[39;49m\u001b[43mfigname\u001b[49m):\n\u001b[1;32m    526\u001b[0m         \u001b[38;5;28;01mreturn\u001b[39;00m\n\u001b[1;32m    527\u001b[0m     \u001b[38;5;28mself\u001b[39m\u001b[38;5;241m.\u001b[39mclearFigure()\n",
      "\u001b[0;31mAttributeError\u001b[0m: 'function' object has no attribute 'figname'"
     ]
    }
   ],
   "source": [
    "\n"
   ]
  },
  {
   "cell_type": "code",
   "execution_count": null,
   "id": "ac3904c0-0928-4800-9ad8-83e617d3929f",
   "metadata": {},
   "outputs": [],
   "source": []
  }
 ],
 "metadata": {
  "kernelspec": {
   "display_name": "Python 3 (ipykernel)",
   "language": "python",
   "name": "python3"
  },
  "language_info": {
   "codemirror_mode": {
    "name": "ipython",
    "version": 3
   },
   "file_extension": ".py",
   "mimetype": "text/x-python",
   "name": "python",
   "nbconvert_exporter": "python",
   "pygments_lexer": "ipython3",
   "version": "3.9.12"
  }
 },
 "nbformat": 4,
 "nbformat_minor": 5
}
