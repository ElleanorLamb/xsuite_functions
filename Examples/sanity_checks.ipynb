{
 "cells": [
  {
   "cell_type": "code",
   "execution_count": 2,
   "id": "70cadcff-6d4e-449d-b6a2-bd8e40e28b36",
   "metadata": {},
   "outputs": [],
   "source": [
    "from __future__ import absolute_import\n",
    "from __future__ import division\n",
    "from __future__ import print_function\n",
    "from __future__ import unicode_literals\n",
    "import matplotlib.pyplot as plt\n",
    "from time import time\n",
    "import sys\n",
    "from abel.direct import direct_transform\n",
    "from abel.tools.analytical import GaussianAnalytical\n",
    "from xbeamfit import fitting\n",
    "from xbeamfit import distributions \n",
    "import json\n",
    "import numpy as np\n",
    "import scipy as sp\n",
    "import pandas as pd\n",
    "import sys\n",
    "import xbeamfit as xb \n",
    "from scipy import interpolate\n",
    "from numpy import trapz\n",
    "import scipy.integrate as integrate\n",
    "from scipy import special\n",
    "from scipy.stats import norm\n",
    "\n",
    "from scipy.stats import chi\n",
    "from scipy.stats import chi2\n",
    "from xsuite_functions import footprint as fp\n"
   ]
  },
  {
   "cell_type": "code",
   "execution_count": 3,
   "id": "5f452931-1cae-419e-a443-574a8e013981",
   "metadata": {},
   "outputs": [],
   "source": [
    "# the summed profile in x \n",
    "\n",
    "\n",
    "x_input = np.linspace(-20,20,20000)\n",
    "\n",
    "q0 = 1\n",
    "\n",
    "b0 =  1/(5-3*q0)\n",
    "#sigma = 1/((b0)*(5-3*q0))\n",
    "A0 = 1\n",
    "\n",
    "\n",
    "\n",
    "\n"
   ]
  },
  {
   "cell_type": "code",
   "execution_count": 9,
   "id": "c7db1e22-867f-4d17-bb8e-39802014aad7",
   "metadata": {},
   "outputs": [
    {
     "name": "stdout",
     "output_type": "stream",
     "text": [
      "Warning: Cython extensions were not built,                     the C backend is not available!\n",
      "Falling back to a pure Python backend...\n",
      "Warning: Cython extensions were not built,                     the C backend is not available!\n",
      "Falling back to a pure Python backend...\n"
     ]
    }
   ],
   "source": [
    "# find r from an abel transform of a q-gauss\n",
    "\n",
    "x = np.linspace(-100,100,20000)\n",
    "\n",
    "q0=1.3\n",
    "b0 =  1/(5-3*q0)\n",
    "\n",
    "\n",
    "qgauss = xb.distributions.qGauss(x,mu=0,q=q0,A=1,b=b0)\n",
    "qgauss = np.nan_to_num(qgauss, 0)\n",
    "\n",
    "\n",
    "############ Inverse Abel transform \n",
    "\n",
    "r = np.linspace(0.00001,100.00001,10000)\n",
    "abel_qgauss = direct_transform(qgauss[10000:], dr=np.diff(r)[0], direction=\"Inverse\", correction=True)\n",
    "\n",
    "#abel_qgauss*2*np.pi*r\n",
    "\n",
    "to_forward_transform = abel_qgauss\n",
    "abel_inverse = direct_transform(to_forward_transform, dr=np.diff(r)[0], direction=\"Forward\", correction=False)\n",
    "\n"
   ]
  },
  {
   "cell_type": "code",
   "execution_count": 12,
   "id": "45cd0a1b-fd56-47cc-9df0-77db45ba4877",
   "metadata": {},
   "outputs": [
    {
     "data": {
      "text/plain": [
       "(0.0, 10.0)"
      ]
     },
     "execution_count": 12,
     "metadata": {},
     "output_type": "execute_result"
    },
    {
     "data": {
      "image/png": "[encoded data removed]",
      "text/plain": [
       "<Figure size 640x480 with 1 Axes>"
      ]
     },
     "metadata": {},
     "output_type": "display_data"
    }
   ],
   "source": [
    "plt.plot(x,qgauss)\n",
    "plt.plot(r, abel_inverse)\n",
    "plt.xlim([0,10])"
   ]
  }
 ],
 "metadata": {
  "kernelspec": {
   "display_name": "Python 3 (ipykernel)",
   "language": "python",
   "name": "python3"
  },
  "language_info": {
   "codemirror_mode": {
    "name": "ipython",
    "version": 3
   },
   "file_extension": ".py",
   "mimetype": "text/x-python",
   "name": "python",
   "nbconvert_exporter": "python",
   "pygments_lexer": "ipython3",
   "version": "3.9.12"
  }
 },
 "nbformat": 4,
 "nbformat_minor": 5
}
